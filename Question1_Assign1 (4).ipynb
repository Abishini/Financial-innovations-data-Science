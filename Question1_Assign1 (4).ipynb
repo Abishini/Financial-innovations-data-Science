{
 "cells": [
  {
   "cell_type": "code",
   "execution_count": 64,
   "id": "40d2523f",
   "metadata": {},
   "outputs": [
    {
     "data": {
      "text/plain": [
       "'\"\\nMary Abishini jerad maria thangaras\\nst no:500 697 390\\nMTH 655 assignment 1'"
      ]
     },
     "execution_count": 64,
     "metadata": {},
     "output_type": "execute_result"
    }
   ],
   "source": [
    "\"\"\"\"\n",
    "Mary Abishini jerad maria thangaras\n",
    "st no:500 697 390\n",
    "MTH 655 assignment 1\"\"\""
   ]
  },
  {
   "cell_type": "code",
   "execution_count": 65,
   "id": "3247eaa7",
   "metadata": {},
   "outputs": [],
   "source": [
    "#Estimate the 5th (see p.10 in slides for Chapter 1) and the 2nd (see p.15 in slides for Chapter 1) \n",
    "# degree polynomial regressions. Test the performance of these models similarly to how it is\n",
    "#done in “Linear regression” (errTrain and errTest variables)\n",
    "#to obtain the table on p.17 in slides for Chapter 1"
   ]
  },
  {
   "cell_type": "code",
   "execution_count": 66,
   "id": "1b8df085",
   "metadata": {},
   "outputs": [],
   "source": [
    "# import packages\n",
    "import os # enable interaction with the operating system\n",
    "import pandas as pd # simplifies working with data uploaded from external source\n",
    "import numpy as np # package for advanced mathematical operations and working with arrays\n",
    "from sklearn.linear_model import LinearRegression # linear regression package\n",
    "import matplotlib.pyplot as plt # plots package\n",
    "from sklearn.preprocessing import PolynomialFeatures\n"
   ]
  },
  {
   "cell_type": "code",
   "execution_count": 67,
   "id": "29843115",
   "metadata": {},
   "outputs": [
    {
     "data": {
      "text/plain": [
       "'C:\\\\Users\\\\sinth'"
      ]
     },
     "execution_count": 67,
     "metadata": {},
     "output_type": "execute_result"
    }
   ],
   "source": [
    "pwd\n"
   ]
  },
  {
   "cell_type": "code",
   "execution_count": 68,
   "id": "70d85c9f",
   "metadata": {},
   "outputs": [
    {
     "name": "stdout",
     "output_type": "stream",
     "text": [
      "   Age  Salary\n",
      "0   25  135000\n",
      "1   55  260000\n",
      "2   27  105000\n",
      "3   35  220000\n",
      "4   60  240000\n",
      "5   65  265000\n",
      "6   45  270000\n",
      "7   40  300000\n",
      "8   50  265000\n",
      "9   30  105000\n"
     ]
    },
    {
     "data": {
      "text/html": [
       "<div>\n",
       "<style scoped>\n",
       "    .dataframe tbody tr th:only-of-type {\n",
       "        vertical-align: middle;\n",
       "    }\n",
       "\n",
       "    .dataframe tbody tr th {\n",
       "        vertical-align: top;\n",
       "    }\n",
       "\n",
       "    .dataframe thead th {\n",
       "        text-align: right;\n",
       "    }\n",
       "</style>\n",
       "<table border=\"1\" class=\"dataframe\">\n",
       "  <thead>\n",
       "    <tr style=\"text-align: right;\">\n",
       "      <th></th>\n",
       "      <th>Age</th>\n",
       "      <th>Salary</th>\n",
       "    </tr>\n",
       "  </thead>\n",
       "  <tbody>\n",
       "    <tr>\n",
       "      <th>count</th>\n",
       "      <td>20.000000</td>\n",
       "      <td>20.000000</td>\n",
       "    </tr>\n",
       "    <tr>\n",
       "      <th>mean</th>\n",
       "      <td>40.550000</td>\n",
       "      <td>197550.000000</td>\n",
       "    </tr>\n",
       "    <tr>\n",
       "      <th>std</th>\n",
       "      <td>13.612978</td>\n",
       "      <td>78845.935716</td>\n",
       "    </tr>\n",
       "    <tr>\n",
       "      <th>min</th>\n",
       "      <td>25.000000</td>\n",
       "      <td>78000.000000</td>\n",
       "    </tr>\n",
       "    <tr>\n",
       "      <th>25%</th>\n",
       "      <td>28.500000</td>\n",
       "      <td>127500.000000</td>\n",
       "    </tr>\n",
       "    <tr>\n",
       "      <th>50%</th>\n",
       "      <td>37.500000</td>\n",
       "      <td>220000.000000</td>\n",
       "    </tr>\n",
       "    <tr>\n",
       "      <th>75%</th>\n",
       "      <td>51.250000</td>\n",
       "      <td>265000.000000</td>\n",
       "    </tr>\n",
       "    <tr>\n",
       "      <th>max</th>\n",
       "      <td>65.000000</td>\n",
       "      <td>310000.000000</td>\n",
       "    </tr>\n",
       "  </tbody>\n",
       "</table>\n",
       "</div>"
      ],
      "text/plain": [
       "             Age         Salary\n",
       "count  20.000000      20.000000\n",
       "mean   40.550000  197550.000000\n",
       "std    13.612978   78845.935716\n",
       "min    25.000000   78000.000000\n",
       "25%    28.500000  127500.000000\n",
       "50%    37.500000  220000.000000\n",
       "75%    51.250000  265000.000000\n",
       "max    65.000000  310000.000000"
      ]
     },
     "execution_count": 68,
     "metadata": {},
     "output_type": "execute_result"
    }
   ],
   "source": [
    "# import the data set\n",
    "data = pd.read_csv('data.csv')\n",
    "print(data.head(n=10)) # print first 10 rows\n",
    "data.describe()"
   ]
  },
  {
   "cell_type": "code",
   "execution_count": 137,
   "id": "d45510f4",
   "metadata": {},
   "outputs": [
    {
     "name": "stdout",
     "output_type": "stream",
     "text": [
      "   Age  Salary\n",
      "0   25  135000\n",
      "1   55  260000\n",
      "2   27  105000\n",
      "3   35  220000\n",
      "4   60  240000\n",
      "5   65  265000\n",
      "6   45  270000\n",
      "7   40  300000\n",
      "8   50  265000\n",
      "9   30  105000\n"
     ]
    }
   ],
   "source": [
    "# split the data into train and test sets; also, split features (x) and targets (y)\n",
    "dataTrain, dataTest = data.iloc[:10], data.iloc[10:20]\n",
    "xRaw, yRaw = dataTrain.drop('Salary',axis=1), dataTrain.drop('Age',axis=1) \n",
    "xRawTest, yRawTest = dataTest.drop('Salary',axis=1), dataTest.drop('Age',axis=1)\n",
    "print(dataTrain)"
   ]
  },
  {
   "cell_type": "code",
   "execution_count": 138,
   "id": "02d7ddb4",
   "metadata": {},
   "outputs": [
    {
     "name": "stdout",
     "output_type": "stream",
     "text": [
      "Age    43.2\n",
      "dtype: float64\n"
     ]
    }
   ],
   "source": [
    "# normalize the feature\n",
    "xMean = xRaw.mean(axis=0) # mean of training data\n",
    "xStd = xRaw.std(axis=0,ddof=1) # standard deviation of training data, ddof is for n-1 in the denominator\n",
    "x = (xRaw - xMean)/xStd # normalize the data \n",
    "xTest = (xRawTest - xMean)/xStd\n",
    "print(xMean)\n"
   ]
  },
  {
   "cell_type": "code",
   "execution_count": 139,
   "id": "052979f0",
   "metadata": {},
   "outputs": [
    {
     "name": "stdout",
     "output_type": "stream",
     "text": [
      "Intercept: 216500.0\n",
      "Slope coefficients: [[53999.82692409]]\n",
      "Intercept: 296762.21795262746\n",
      "Slope coefficients: [[      0.           -2253.49486611 -216156.04407059  132146.87061371\n",
      "    93992.56445683  -61141.37992142]]\n",
      "Intercept: 260087.58398797148\n",
      "Slope coefficients: [[     0.          61473.79879438 -48430.64887552]]\n"
     ]
    }
   ],
   "source": [
    "# fit the model\n",
    "model = LinearRegression() # linear regression model. \n",
    "model.fit(x,yRaw)  # find the best fit\n",
    "print (\"Intercept:\", model.intercept_[0]) # print the intercept \n",
    "print (\"Slope coefficients:\", model.coef_) # print the coefficients\n",
    "\n",
    "#fit the model for degree 5 polynomial regression\n",
    "poly_reg =PolynomialFeatures(degree = 5)\n",
    "X_poly = poly_reg.fit_transform(x)\n",
    "X_polyTest=poly_reg5.fit_transform(xTest)\n",
    "model2 = LinearRegression()\n",
    "model2.fit(X_poly, yRaw)\n",
    "print (\"Intercept:\", model2.intercept_[0]) # print the intercept \n",
    "print (\"Slope coefficients:\", model2.coef_) # print the coefficients\n",
    "\n",
    "#fit the model for degree 2 polynomial regression\n",
    "poly_reg =PolynomialFeatures(degree = 2)\n",
    "X_poly2 = poly_reg.fit_transform(x)\n",
    "X_polyTest2=poly_reg.fit_transform(xTest)\n",
    "model3 = LinearRegression()\n",
    "model3.fit(X_poly2, yRaw)\n",
    "print (\"Intercept:\", model3.intercept_[0]) # print the intercept \n",
    "print (\"Slope coefficients:\", model3.coef_) # print the coefficients\n"
   ]
  },
  {
   "cell_type": "code",
   "execution_count": 140,
   "id": "f1a2f56b",
   "metadata": {},
   "outputs": [
    {
     "name": "stdout",
     "output_type": "stream",
     "text": [
      "[49731.13068124]\n",
      "[49989.62442279]\n",
      " The training data of  5th degree model [12902.20304437] \n",
      " The test data of  5th degree model [38793.91269025] \n",
      " The training data of Quadratic model [32932.08272044] \n",
      " The test data of Quadratic model [33553.77147604] \n"
     ]
    }
   ],
   "source": [
    "# model performance Linear regression\n",
    "yFitted = model.predict(x) # prediction for x values\n",
    "errTrain = (yRaw-yFitted).std(ddof=1).values # std of the error (get only value, not name of the column)\n",
    "print (errTrain)\n",
    "yTestFitted = model.predict(xTest)\n",
    "errTest = (yRawTest-yTestFitted).std(ddof=1).values\n",
    "print (errTest)\n",
    "\n",
    "# model performance for degree 5 polynomial regression\n",
    "yFitted2 = model2.predict(X_poly) # prediction for x values\n",
    "errTrain2 = (yRaw-yFitted2).std(ddof=1).values # std of the error (get only value, not name of the column)\n",
    "print(f' The training data of  5th degree model {errTrain2} ')\n",
    "yTestFitted2 = model2.predict(X_polyTest)\n",
    "errTest2 = (yRawTest-yTestFitted2).std(ddof=1).values\n",
    "print(f' The test data of  5th degree model {errTest2} ')\n",
    "\n",
    "# model performance for degree 2 polynomial regression\n",
    "yFitted3 = model3.predict(X_poly2) # prediction for x values\n",
    "errTrain3 = (yRaw-yFitted3).std(ddof=1).values # std of the error (get only value, not name of the column)\n",
    "print(f' The training data of Quadratic model {errTrain3} ')\n",
    "yTestFitted3 = model3.predict(X_polyTest2)\n",
    "errTest3 = (yRawTest-yTestFitted3).std(ddof=1).values\n",
    "print(f' The test data of Quadratic model {errTest3} ')\n",
    "\n"
   ]
  },
  {
   "cell_type": "code",
   "execution_count": 136,
   "id": "0719b76d",
   "metadata": {},
   "outputs": [
    {
     "data": {
      "image/png": "[encoded data removed]",
      "text/plain": [
       "<Figure size 432x288 with 1 Axes>"
      ]
     },
     "metadata": {
      "needs_background": "light"
     },
     "output_type": "display_data"
    }
   ],
   "source": [
    "plt.scatter(xRaw.values, yRaw.values, color='blue') # original data\n",
    "plt.grid(which='major', linestyle='-', linewidth='0.5', color='grey') # put the grid on\n",
    "plt.plot(xRaw, yFitted, color='red', linewidth=2) # fitted values\n",
    "plt.title('Salary vs. age')\n",
    "plt.xlabel('Age')\n",
    "plt.ylabel('Salary')\n",
    "plt.show()\n"
   ]
  },
  {
   "cell_type": "code",
   "execution_count": 147,
   "id": "51f6575c",
   "metadata": {},
   "outputs": [
    {
     "data": {
      "image/png": "[encoded data removed]",
      "text/plain": [
       "<Figure size 432x288 with 1 Axes>"
      ]
     },
     "metadata": {
      "needs_background": "light"
     },
     "output_type": "display_data"
    },
    {
     "data": {
      "image/png": "[encoded data removed]",
      "text/plain": [
       "<Figure size 432x288 with 1 Axes>"
      ]
     },
     "metadata": {
      "needs_background": "light"
     },
     "output_type": "display_data"
    }
   ],
   "source": [
    "plt.scatter(xRaw.values, yRaw.values, color='blue') # original data\n",
    "plt.grid(which='major', linestyle='-', linewidth='0.5', color='grey') # put the grid on\n",
    "plt.plot(xRaw, yFitted2, color='red', linewidth=2) # fitted values\n",
    "plt.title('Salary vs. age')\n",
    "plt.xlabel('Age')\n",
    "plt.ylabel('Salary')\n",
    "plt.show()\n",
    "\n",
    "plt.scatter(xRaw.values, yRaw.values, color='blue') # original data\n",
    "plt.grid(which='major', linestyle='-', linewidth='0.5', color='grey') # put the grid on\n",
    "plt.plot(xRaw, yFitted3, color='red', linewidth=2) # fitted values\n",
    "plt.title('Salary vs. age')\n",
    "plt.xlabel('Age')\n",
    "plt.ylabel('Salary')\n",
    "plt.show()\n",
    "\n"
   ]
  },
  {
   "cell_type": "code",
   "execution_count": null,
   "id": "bd1a0e3a",
   "metadata": {},
   "outputs": [],
   "source": []
  },
  {
   "cell_type": "code",
   "execution_count": null,
   "id": "ec7ebda4",
   "metadata": {},
   "outputs": [],
   "source": []
  }
 ],
 "metadata": {
  "kernelspec": {
   "display_name": "Python 3",
   "language": "python",
   "name": "python3"
  },
  "language_info": {
   "codemirror_mode": {
    "name": "ipython",
    "version": 3
   },
   "file_extension": ".py",
   "mimetype": "text/x-python",
   "name": "python",
   "nbconvert_exporter": "python",
   "pygments_lexer": "ipython3",
   "version": "3.8.8"
  }
 },
 "nbformat": 4,
 "nbformat_minor": 5
}
