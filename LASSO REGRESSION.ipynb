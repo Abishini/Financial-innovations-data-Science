{
 "cells": [
  {
   "cell_type": "code",
   "execution_count": null,
   "id": "ea49f54a",
   "metadata": {},
   "outputs": [],
   "source": [
    "\"\"\"\"\n",
    "Mary Abishini jerad maria thangaras\n",
    "st no:500 697 390\n",
    "MTH 655 assignment 1\"\"\""
   ]
  },
  {
   "cell_type": "code",
   "execution_count": null,
   "id": "135e9035",
   "metadata": {},
   "outputs": [],
   "source": [
    "# Importing necessary packages\n",
    "import os # enable interaction with the operating system\n",
    "import pandas as pd # python's data handling package\n",
    "import numpy as np # python's scientific computing package\n",
    "import matplotlib.pyplot as plt # python's plotting package\n",
    "import random # random numbers package\n",
    "from sklearn.metrics import mean_squared_error as mse\n",
    "from sklearn.linear_model import Lasso # Lasso regression"
   ]
  },
  {
   "cell_type": "code",
   "execution_count": 44,
   "id": "2e1c8c73",
   "metadata": {},
   "outputs": [],
   "source": [
    "# Both features and target have already been scaled: mean = 0; SD = 1\n",
    "DATA_FOLDER = \"C:\\\\Users\\\\sinth\\\\Desktop\\\\House prices\"\n",
    "FILENAME = 'Houseprice_data_scaled.csv'\n",
    "data = pd.read_csv(os.path.join(DATA_FOLDER, FILENAME)) "
   ]
  },
  {
   "cell_type": "code",
   "execution_count": 45,
   "id": "896f943a",
   "metadata": {},
   "outputs": [],
   "source": [
    "# First 1800 data items are training set; the next 600 are the validation set\n",
    "train = data.iloc[:1800] \n",
    "test = data.iloc[1800:2400]\n"
   ]
  },
  {
   "cell_type": "code",
   "execution_count": 46,
   "id": "9fc42aa7",
   "metadata": {},
   "outputs": [],
   "source": [
    "# Creating the \"X\" and \"y\" variables. We drop sale price from \"X\"\n",
    "X_train, X_test = train.drop('Sale Price', axis=1), test.drop('Sale Price', axis=1)\n",
    "y_train, y_test = train[['Sale Price']], test[['Sale Price']] "
   ]
  },
  {
   "cell_type": "code",
   "execution_count": 47,
   "id": "eed39929",
   "metadata": {},
   "outputs": [
    {
     "data": {
      "text/plain": [
       "Lasso(alpha=0.05)"
      ]
     },
     "execution_count": 47,
     "metadata": {},
     "output_type": "execute_result"
    }
   ],
   "source": [
    "# Here we produce results for alpha=0.05 \n",
    "lasso = Lasso(alpha=0.05)\n",
    "lasso.fit(X_train, y_train)"
   ]
  },
  {
   "cell_type": "code",
   "execution_count": 48,
   "id": "ac0341f8",
   "metadata": {},
   "outputs": [
    {
     "data": {
      "text/html": [
       "<div>\n",
       "<style scoped>\n",
       "    .dataframe tbody tr th:only-of-type {\n",
       "        vertical-align: middle;\n",
       "    }\n",
       "\n",
       "    .dataframe tbody tr th {\n",
       "        vertical-align: top;\n",
       "    }\n",
       "\n",
       "    .dataframe thead th {\n",
       "        text-align: right;\n",
       "    }\n",
       "</style>\n",
       "<table border=\"1\" class=\"dataframe\">\n",
       "  <thead>\n",
       "    <tr style=\"text-align: right;\">\n",
       "      <th></th>\n",
       "      <th>1</th>\n",
       "    </tr>\n",
       "    <tr>\n",
       "      <th>0</th>\n",
       "      <th></th>\n",
       "    </tr>\n",
       "  </thead>\n",
       "  <tbody>\n",
       "    <tr>\n",
       "      <th>intercept</th>\n",
       "      <td>-0.012926</td>\n",
       "    </tr>\n",
       "    <tr>\n",
       "      <th>LotArea</th>\n",
       "      <td>0.044238</td>\n",
       "    </tr>\n",
       "    <tr>\n",
       "      <th>OverallQual</th>\n",
       "      <td>0.300162</td>\n",
       "    </tr>\n",
       "    <tr>\n",
       "      <th>OverallCond</th>\n",
       "      <td>0.0</td>\n",
       "    </tr>\n",
       "    <tr>\n",
       "      <th>YearBuilt</th>\n",
       "      <td>0.054201</td>\n",
       "    </tr>\n",
       "    <tr>\n",
       "      <th>YearRemodAdd</th>\n",
       "      <td>0.0648</td>\n",
       "    </tr>\n",
       "    <tr>\n",
       "      <th>BsmtFinSF1</th>\n",
       "      <td>0.114129</td>\n",
       "    </tr>\n",
       "    <tr>\n",
       "      <th>BsmtUnfSF</th>\n",
       "      <td>-0.0</td>\n",
       "    </tr>\n",
       "    <tr>\n",
       "      <th>TotalBsmtSF</th>\n",
       "      <td>0.105414</td>\n",
       "    </tr>\n",
       "    <tr>\n",
       "      <th>1stFlrSF</th>\n",
       "      <td>0.028359</td>\n",
       "    </tr>\n",
       "    <tr>\n",
       "      <th>2ndFlrSF</th>\n",
       "      <td>0.0</td>\n",
       "    </tr>\n",
       "    <tr>\n",
       "      <th>GrLivArea</th>\n",
       "      <td>0.29196</td>\n",
       "    </tr>\n",
       "    <tr>\n",
       "      <th>FullBath</th>\n",
       "      <td>0.0</td>\n",
       "    </tr>\n",
       "    <tr>\n",
       "      <th>HalfBath</th>\n",
       "      <td>0.0</td>\n",
       "    </tr>\n",
       "    <tr>\n",
       "      <th>BedroomAbvGr</th>\n",
       "      <td>-0.0</td>\n",
       "    </tr>\n",
       "    <tr>\n",
       "      <th>TotRmsAbvGrd</th>\n",
       "      <td>0.0</td>\n",
       "    </tr>\n",
       "    <tr>\n",
       "      <th>Fireplaces</th>\n",
       "      <td>0.01876</td>\n",
       "    </tr>\n",
       "    <tr>\n",
       "      <th>GarageCars</th>\n",
       "      <td>0.026215</td>\n",
       "    </tr>\n",
       "    <tr>\n",
       "      <th>GarageArea</th>\n",
       "      <td>0.065638</td>\n",
       "    </tr>\n",
       "    <tr>\n",
       "      <th>WoodDeckSF</th>\n",
       "      <td>0.0</td>\n",
       "    </tr>\n",
       "    <tr>\n",
       "      <th>OpenPorchSF</th>\n",
       "      <td>0.000221</td>\n",
       "    </tr>\n",
       "    <tr>\n",
       "      <th>EnclosedPorch</th>\n",
       "      <td>-0.0</td>\n",
       "    </tr>\n",
       "    <tr>\n",
       "      <th>Blmngtn</th>\n",
       "      <td>-0.0</td>\n",
       "    </tr>\n",
       "    <tr>\n",
       "      <th>Blueste</th>\n",
       "      <td>-0.0</td>\n",
       "    </tr>\n",
       "    <tr>\n",
       "      <th>BrDale</th>\n",
       "      <td>-0.0</td>\n",
       "    </tr>\n",
       "    <tr>\n",
       "      <th>BrkSide</th>\n",
       "      <td>0.0</td>\n",
       "    </tr>\n",
       "    <tr>\n",
       "      <th>ClearCr</th>\n",
       "      <td>0.0</td>\n",
       "    </tr>\n",
       "    <tr>\n",
       "      <th>CollgCr</th>\n",
       "      <td>-0.0</td>\n",
       "    </tr>\n",
       "    <tr>\n",
       "      <th>Crawfor</th>\n",
       "      <td>0.0</td>\n",
       "    </tr>\n",
       "    <tr>\n",
       "      <th>Edwards</th>\n",
       "      <td>-0.0</td>\n",
       "    </tr>\n",
       "    <tr>\n",
       "      <th>Gilbert</th>\n",
       "      <td>0.0</td>\n",
       "    </tr>\n",
       "    <tr>\n",
       "      <th>IDOTRR</th>\n",
       "      <td>-0.0</td>\n",
       "    </tr>\n",
       "    <tr>\n",
       "      <th>MeadowV</th>\n",
       "      <td>-0.0</td>\n",
       "    </tr>\n",
       "    <tr>\n",
       "      <th>Mitchel</th>\n",
       "      <td>-0.0</td>\n",
       "    </tr>\n",
       "    <tr>\n",
       "      <th>Names</th>\n",
       "      <td>-0.0</td>\n",
       "    </tr>\n",
       "    <tr>\n",
       "      <th>NoRidge</th>\n",
       "      <td>0.014343</td>\n",
       "    </tr>\n",
       "    <tr>\n",
       "      <th>NPkVill</th>\n",
       "      <td>-0.0</td>\n",
       "    </tr>\n",
       "    <tr>\n",
       "      <th>NriddgHt</th>\n",
       "      <td>0.083517</td>\n",
       "    </tr>\n",
       "    <tr>\n",
       "      <th>NWAmes</th>\n",
       "      <td>-0.0</td>\n",
       "    </tr>\n",
       "    <tr>\n",
       "      <th>OLDTown</th>\n",
       "      <td>-0.0</td>\n",
       "    </tr>\n",
       "    <tr>\n",
       "      <th>SWISU</th>\n",
       "      <td>-0.0</td>\n",
       "    </tr>\n",
       "    <tr>\n",
       "      <th>Sawyer</th>\n",
       "      <td>-0.0</td>\n",
       "    </tr>\n",
       "    <tr>\n",
       "      <th>SawyerW</th>\n",
       "      <td>-0.0</td>\n",
       "    </tr>\n",
       "    <tr>\n",
       "      <th>Somerst</th>\n",
       "      <td>0.0</td>\n",
       "    </tr>\n",
       "    <tr>\n",
       "      <th>StoneBr</th>\n",
       "      <td>0.01508</td>\n",
       "    </tr>\n",
       "    <tr>\n",
       "      <th>Timber</th>\n",
       "      <td>0.0</td>\n",
       "    </tr>\n",
       "    <tr>\n",
       "      <th>Veenker</th>\n",
       "      <td>0.0</td>\n",
       "    </tr>\n",
       "    <tr>\n",
       "      <th>Bsmt Qual</th>\n",
       "      <td>0.01566</td>\n",
       "    </tr>\n",
       "  </tbody>\n",
       "</table>\n",
       "</div>"
      ],
      "text/plain": [
       "                      1\n",
       "0                      \n",
       "intercept     -0.012926\n",
       "LotArea        0.044238\n",
       "OverallQual    0.300162\n",
       "OverallCond         0.0\n",
       "YearBuilt      0.054201\n",
       "YearRemodAdd     0.0648\n",
       "BsmtFinSF1     0.114129\n",
       "BsmtUnfSF          -0.0\n",
       "TotalBsmtSF    0.105414\n",
       "1stFlrSF       0.028359\n",
       "2ndFlrSF            0.0\n",
       "GrLivArea       0.29196\n",
       "FullBath            0.0\n",
       "HalfBath            0.0\n",
       "BedroomAbvGr       -0.0\n",
       "TotRmsAbvGrd        0.0\n",
       "Fireplaces      0.01876\n",
       "GarageCars     0.026215\n",
       "GarageArea     0.065638\n",
       "WoodDeckSF          0.0\n",
       "OpenPorchSF    0.000221\n",
       "EnclosedPorch      -0.0\n",
       "Blmngtn            -0.0\n",
       "Blueste            -0.0\n",
       "BrDale             -0.0\n",
       "BrkSide             0.0\n",
       "ClearCr             0.0\n",
       "CollgCr            -0.0\n",
       "Crawfor             0.0\n",
       "Edwards            -0.0\n",
       "Gilbert             0.0\n",
       "IDOTRR             -0.0\n",
       "MeadowV            -0.0\n",
       "Mitchel            -0.0\n",
       "Names              -0.0\n",
       "NoRidge        0.014343\n",
       "NPkVill            -0.0\n",
       "NriddgHt       0.083517\n",
       "NWAmes             -0.0\n",
       "OLDTown            -0.0\n",
       "SWISU              -0.0\n",
       "Sawyer             -0.0\n",
       "SawyerW            -0.0\n",
       "Somerst             0.0\n",
       "StoneBr         0.01508\n",
       "Timber              0.0\n",
       "Veenker             0.0\n",
       "Bsmt Qual       0.01566"
      ]
     },
     "execution_count": 48,
     "metadata": {},
     "output_type": "execute_result"
    }
   ],
   "source": [
    "coeffs = pd.DataFrame(\n",
    "    [\n",
    "        ['intercept'] + list(X_train.columns),\n",
    "        list(lasso.intercept_) + list(lasso.coef_)\n",
    "    ]\n",
    ").transpose().set_index(0)\n",
    "coeffs\n"
   ]
  },
  {
   "cell_type": "code",
   "execution_count": 49,
   "id": "b95b97ae",
   "metadata": {},
   "outputs": [
    {
     "name": "stdout",
     "output_type": "stream",
     "text": [
      "0.11386863624693959\n",
      "0.11411666655734332\n",
      "0.11526461827765326\n",
      "0.1173240623451818\n",
      "0.12020611819731856\n",
      "0.1292161075141901\n",
      "0.1374540767180639\n"
     ]
    }
   ],
   "source": [
    "alphas= alphas=[0.01/2, 0.02/2, 0.03/2, 0.04/2, 0.05/2, 0.075/2, 0.1/2]\n",
    "mses=[]\n",
    "for alpha in alphas:\n",
    "    lasso=Lasso(alpha=alpha)\n",
    "    lasso.fit(X_train,y_train)\n",
    "    pred=lasso.predict(X_test)\n",
    "    mses.append(mse(y_test,pred))\n",
    "    print(mse(y_test, pred))"
   ]
  },
  {
   "cell_type": "markdown",
   "id": "61df7a1b",
   "metadata": {},
   "source": [
    "plt.plot(alphas, mses)\n"
   ]
  },
  {
   "cell_type": "code",
   "execution_count": 50,
   "id": "c3224598",
   "metadata": {},
   "outputs": [
    {
     "data": {
      "text/plain": [
       "[<matplotlib.lines.Line2D at 0x207ebd29100>]"
      ]
     },
     "execution_count": 50,
     "metadata": {},
     "output_type": "execute_result"
    },
    {
     "data": {
      "image/png": "[encoded data removed]",
      "text/plain": [
       "<Figure size 432x288 with 1 Axes>"
      ]
     },
     "metadata": {
      "needs_background": "light"
     },
     "output_type": "display_data"
    }
   ],
   "source": [
    "plt.plot(alphas, mses)\n"
   ]
  },
  {
   "cell_type": "code",
   "execution_count": 51,
   "id": "19bb6c08",
   "metadata": {},
   "outputs": [
    {
     "name": "stdout",
     "output_type": "stream",
     "text": [
      "0.1374540767180639\n"
     ]
    }
   ],
   "source": [
    "print(mse(y_test, lasso.predict(X_test)))\n",
    "\n"
   ]
  },
  {
   "cell_type": "code",
   "execution_count": 52,
   "id": "60ea8a60",
   "metadata": {},
   "outputs": [
    {
     "name": "stdout",
     "output_type": "stream",
     "text": [
      "0.1173240623451818\n"
     ]
    }
   ],
   "source": [
    "# Calculate mse for test set when  lambda =0.04\n",
    "alpha=0.04/2\n",
    "lasso=Lasso(alpha=alpha)\n",
    "lasso.fit(X_train,y_train)\n",
    "pred=lasso.predict(X_test)\n",
    "print(mse(y_test,pred))"
   ]
  },
  {
   "cell_type": "code",
   "execution_count": 53,
   "id": "1225e424",
   "metadata": {},
   "outputs": [
    {
     "name": "stdout",
     "output_type": "stream",
     "text": [
      "What is bagging:\n",
      "Soln :bagging is a machine learning ensemble meta-algorithm designed to improve the stability and accuracy of machine learning algorithms used in statistical classification and regression\n"
     ]
    }
   ],
   "source": [
    "print(\"What is bagging:\")\n",
    "print(\"Soln :bagging is a machine learning ensemble meta-algorithm designed to improve the stability and accuracy of machine learning algorithms used in statistical classification and regression\")\n",
    "      "
   ]
  },
  {
   "cell_type": "code",
   "execution_count": null,
   "id": "c72ca0a0",
   "metadata": {},
   "outputs": [],
   "source": []
  },
  {
   "cell_type": "code",
   "execution_count": null,
   "id": "69972647",
   "metadata": {},
   "outputs": [],
   "source": []
  }
 ],
 "metadata": {
  "kernelspec": {
   "display_name": "Python 3",
   "language": "python",
   "name": "python3"
  },
  "language_info": {
   "codemirror_mode": {
    "name": "ipython",
    "version": 3
   },
   "file_extension": ".py",
   "mimetype": "text/x-python",
   "name": "python",
   "nbconvert_exporter": "python",
   "pygments_lexer": "ipython3",
   "version": "3.8.8"
  }
 },
 "nbformat": 4,
 "nbformat_minor": 5
}
